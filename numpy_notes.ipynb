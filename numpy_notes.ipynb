{
 "cells": [
  {
   "cell_type": "markdown",
   "metadata": {},
   "source": [
    "# Numpy tutorial\n",
    "\n",
    "## Setup\n",
    "pip install numpy\n",
    "\n",
    "## what is numpy\n",
    "Numpy is one of the main libraries used in machine learning an data science. It os used to manupulate data.\n",
    "\n",
    "## import to add\n",
    "import numpy as np \n"
   ]
  },
  {
   "cell_type": "code",
   "execution_count": 3,
   "metadata": {},
   "outputs": [
    {
     "data": {
      "text/plain": [
       "array([1, 2, 3, 4])"
      ]
     },
     "execution_count": 3,
     "metadata": {},
     "output_type": "execute_result"
    }
   ],
   "source": [
    "import numpy as np \n",
    "# 1D array \n",
    "a1 = np.array([1,2,3,4])\n",
    "a1"
   ]
  },
  {
   "cell_type": "code",
   "execution_count": 4,
   "metadata": {},
   "outputs": [
    {
     "data": {
      "text/plain": [
       "(4,)"
      ]
     },
     "execution_count": 4,
     "metadata": {},
     "output_type": "execute_result"
    }
   ],
   "source": [
    "# shape property: tuple with dimentions\n",
    "a1.shape"
   ]
  },
  {
   "cell_type": "code",
   "execution_count": 5,
   "metadata": {},
   "outputs": [
    {
     "data": {
      "text/plain": [
       "array([[1, 2, 3, 4],\n",
       "       [5, 6, 7, 8]])"
      ]
     },
     "execution_count": 5,
     "metadata": {},
     "output_type": "execute_result"
    }
   ],
   "source": [
    "# Rank 2 array \n",
    "a2 = np.array([[1,2,3,4],\n",
    "               [5,6,7,8]]) # initialized with a numpy list \n",
    "a2 "
   ]
  },
  {
   "cell_type": "code",
   "execution_count": 6,
   "metadata": {},
   "outputs": [
    {
     "data": {
      "text/plain": [
       "(2, 4)"
      ]
     },
     "execution_count": 6,
     "metadata": {},
     "output_type": "execute_result"
    }
   ],
   "source": [
    "a2.shape"
   ]
  },
  {
   "cell_type": "code",
   "execution_count": 7,
   "metadata": {},
   "outputs": [
    {
     "data": {
      "text/plain": [
       "array([[1, 0, 0],\n",
       "       [0, 1, 0],\n",
       "       [0, 0, 1],\n",
       "       [0, 0, 1]])"
      ]
     },
     "execution_count": 7,
     "metadata": {},
     "output_type": "execute_result"
    }
   ],
   "source": [
    "# initilizing matrix\n",
    "M1 = np.array([[1,0,0], \n",
    "               [0,1,0], \n",
    "               [0,0,1], \n",
    "               [0,0,1]])\n",
    "M1"
   ]
  },
  {
   "cell_type": "code",
   "execution_count": 8,
   "metadata": {},
   "outputs": [
    {
     "data": {
      "text/plain": [
       "(4, 3)"
      ]
     },
     "execution_count": 8,
     "metadata": {},
     "output_type": "execute_result"
    }
   ],
   "source": [
    "M1.shape"
   ]
  },
  {
   "cell_type": "code",
   "execution_count": 9,
   "metadata": {},
   "outputs": [
    {
     "name": "stdout",
     "output_type": "stream",
     "text": [
      "m: 4, n: 3\n"
     ]
    }
   ],
   "source": [
    "# Shape is tuple\n",
    "m = M1.shape[0] # number of rows\n",
    "n = M1.shape[1] # number of columns \n",
    "print(f\"m: {m}, n: {n}\")"
   ]
  },
  {
   "cell_type": "code",
   "execution_count": 10,
   "metadata": {},
   "outputs": [
    {
     "data": {
      "text/plain": [
       "array([[1, 0, 0, 0, 1, 0, 0, 0, 1, 0, 0, 1]])"
      ]
     },
     "execution_count": 10,
     "metadata": {},
     "output_type": "execute_result"
    }
   ],
   "source": [
    "# reshape: change the dimention of metrix (Note: number of element will remain same)\n",
    "M2 = np.reshape(M1, (1, 12))\n",
    "M2"
   ]
  },
  {
   "cell_type": "code",
   "execution_count": 12,
   "metadata": {},
   "outputs": [
    {
     "name": "stdout",
     "output_type": "stream",
     "text": [
      "shape of a1 = (4,)\n",
      "shape of a2 = (4, 1)\n",
      "[[1]\n",
      " [2]\n",
      " [3]\n",
      " [4]]\n",
      "shape of a3 = (1, 4)\n",
      "[[1 2 3 4]]\n"
     ]
    }
   ],
   "source": [
    "# change flat array into metrix\n",
    "print(f'shape of a1 = {a1.shape}')\n",
    "a2 = np.reshape(a1, (a1.shape[0], 1))\n",
    "print(f'shape of a2 = {a2.shape}')\n",
    "print(a2)\n",
    "a3 = np.reshape(a1, (1, a1.shape[0]))\n",
    "print(f'shape of a3 = {a3.shape}')\n",
    "print(a3)"
   ]
  },
  {
   "cell_type": "code",
   "execution_count": 13,
   "metadata": {},
   "outputs": [
    {
     "name": "stdout",
     "output_type": "stream",
     "text": [
      "[1, 2, 3, 4]\n",
      "[1 2 3 4]\n"
     ]
    }
   ],
   "source": [
    "# Note: numpy array are not list\n",
    "# python list: \n",
    "l = [1,2,3,4] \n",
    "\n",
    "# np.array \n",
    "l_np = np.array(l)\n",
    "\n",
    "# different print style \n",
    "print(l) \n",
    "print(l_np) # note the lack of commas "
   ]
  },
  {
   "cell_type": "code",
   "execution_count": 14,
   "metadata": {},
   "outputs": [
    {
     "name": "stdout",
     "output_type": "stream",
     "text": [
      "[1, 2, 3, 4, 1, 2, 3, 4, 1, 2, 3, 4, 1, 2, 3, 4, 1, 2, 3, 4]\n",
      "[ 5 10 15 20]\n"
     ]
    }
   ],
   "source": [
    "# different behaviour!! \n",
    "print(l*5) # multiplying a python list replicates it\n",
    "print(l_np*5) # numpy applies operation elemntwise"
   ]
  },
  {
   "cell_type": "code",
   "execution_count": 16,
   "metadata": {},
   "outputs": [
    {
     "name": "stdout",
     "output_type": "stream",
     "text": [
      "(9,)\n",
      "(9,)\n",
      "new shape\n",
      "(9, 1)\n",
      "(9, 1)\n"
     ]
    },
    {
     "data": {
      "text/plain": [
       "array([[414.4]])"
      ]
     },
     "execution_count": 16,
     "metadata": {},
     "output_type": "execute_result"
    }
   ],
   "source": [
    "# dot: multiplying of 2 metrics and adding them (Note: shape of metrics should be same)\n",
    "x = np.array([1,9.0,3,4,5.5,6,7,8.9,10]) \n",
    "y = np.array([1,10,1,10,1,10,1,11,11]) \n",
    "print(x.shape)\n",
    "print(y.shape)\n",
    "\n",
    "x = np.reshape(x, (x.shape[0], 1))\n",
    "y = np.reshape(y, (y.shape[0],1))\n",
    "print('new shape')\n",
    "print(x.shape)\n",
    "print(y.shape)\n",
    "\n",
    "res = np.dot(x.T,y)\n",
    "res\n",
    "\n"
   ]
  },
  {
   "cell_type": "code",
   "execution_count": 17,
   "metadata": {},
   "outputs": [
    {
     "data": {
      "text/plain": [
       "array([[ 0.75894867, -2.06423193, -0.8324936 , -0.85650213, -2.06443756],\n",
       "       [ 1.1756937 , -1.42243242,  2.19895677,  0.57867676, -0.48234351],\n",
       "       [ 0.06038756,  1.59842652, -0.2902028 , -1.36676419, -0.70546483],\n",
       "       [ 0.58529477,  0.41712251,  2.31557628, -2.49179399,  1.19564577],\n",
       "       [-0.46782917,  0.17830394, -1.28827019,  0.30467828, -0.13048557]])"
      ]
     },
     "execution_count": 17,
     "metadata": {},
     "output_type": "execute_result"
    }
   ],
   "source": [
    "# generating random metrix\n",
    "M3 = np.random.randn(5,5)\n",
    "M3 "
   ]
  }
 ],
 "metadata": {
  "interpreter": {
   "hash": "e02a7775c0a708df09fe1e39e2541b95513b9c6a5350d162aea1d0914433a967"
  },
  "kernelspec": {
   "display_name": "Python 3.9.1 64-bit ('env': venv)",
   "language": "python",
   "name": "python3"
  },
  "language_info": {
   "codemirror_mode": {
    "name": "ipython",
    "version": 3
   },
   "file_extension": ".py",
   "mimetype": "text/x-python",
   "name": "python",
   "nbconvert_exporter": "python",
   "pygments_lexer": "ipython3",
   "version": "3.9.1"
  },
  "orig_nbformat": 4
 },
 "nbformat": 4,
 "nbformat_minor": 2
}
